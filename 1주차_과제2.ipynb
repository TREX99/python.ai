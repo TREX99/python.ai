{
  "nbformat": 4,
  "nbformat_minor": 0,
  "metadata": {
    "colab": {
      "name": "1주차-과제2",
      "provenance": [],
      "authorship_tag": "ABX9TyMdC0VYXngv6E+Y+VOtJ2Kq",
      "include_colab_link": true
    },
    "kernelspec": {
      "name": "python3",
      "display_name": "Python 3"
    }
  },
  "cells": [
    {
      "cell_type": "markdown",
      "metadata": {
        "id": "view-in-github",
        "colab_type": "text"
      },
      "source": [
        "<a href=\"https://colab.research.google.com/github/TREX99/python.ai/blob/master/1%EC%A3%BC%EC%B0%A8_%EA%B3%BC%EC%A0%9C2.ipynb\" target=\"_parent\"><img src=\"https://colab.research.google.com/assets/colab-badge.svg\" alt=\"Open In Colab\"/></a>"
      ]
    },
    {
      "cell_type": "markdown",
      "metadata": {
        "id": "nPi-aqa64gDG",
        "colab_type": "text"
      },
      "source": [
        "[1, 3] 열벡터와 [3, 1] 열벡터의 선형결합으로 [2.5, 3.5] 열벡터를 만들기\n",
        "(적절한 β1, β2 구하기)"
      ]
    },
    {
      "cell_type": "code",
      "metadata": {
        "id": "KIiRwkkp3GIV",
        "colab_type": "code",
        "colab": {}
      },
      "source": [
        "import numpy as np"
      ],
      "execution_count": 0,
      "outputs": []
    },
    {
      "cell_type": "code",
      "metadata": {
        "id": "j9-1fEQW3pcU",
        "colab_type": "code",
        "colab": {}
      },
      "source": [
        "data1 = np.array([[1, 3], [3, 1]])"
      ],
      "execution_count": 0,
      "outputs": []
    },
    {
      "cell_type": "code",
      "metadata": {
        "id": "Qq1Q1nyl4BmZ",
        "colab_type": "code",
        "colab": {}
      },
      "source": [
        "data2 = np.array([2.5, 3.5])"
      ],
      "execution_count": 0,
      "outputs": []
    },
    {
      "cell_type": "code",
      "metadata": {
        "id": "xcMwyE-w4I5K",
        "colab_type": "code",
        "colab": {}
      },
      "source": [
        "result = np.linalg.solve(data1, data2)"
      ],
      "execution_count": 0,
      "outputs": []
    },
    {
      "cell_type": "code",
      "metadata": {
        "id": "lgTzfOcy4aHj",
        "colab_type": "code",
        "colab": {
          "base_uri": "https://localhost:8080/",
          "height": 36
        },
        "outputId": "2aa872e0-175c-46e4-a70c-d89a3f232987"
      },
      "source": [
        "result"
      ],
      "execution_count": 19,
      "outputs": [
        {
          "output_type": "execute_result",
          "data": {
            "text/plain": [
              "array([1. , 0.5])"
            ]
          },
          "metadata": {
            "tags": []
          },
          "execution_count": 19
        }
      ]
    }
  ]
}
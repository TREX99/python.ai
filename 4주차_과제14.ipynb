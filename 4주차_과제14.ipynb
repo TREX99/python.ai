{
  "nbformat": 4,
  "nbformat_minor": 0,
  "metadata": {
    "colab": {
      "name": "4주차_과제14.ipynb",
      "provenance": [],
      "collapsed_sections": [],
      "authorship_tag": "ABX9TyP7nr+vnXlI+dog84p+jgym",
      "include_colab_link": true
    },
    "kernelspec": {
      "name": "python3",
      "display_name": "Python 3"
    }
  },
  "cells": [
    {
      "cell_type": "markdown",
      "metadata": {
        "id": "view-in-github",
        "colab_type": "text"
      },
      "source": [
        "<a href=\"https://colab.research.google.com/github/TREX99/python.ai/blob/master/4%EC%A3%BC%EC%B0%A8_%EA%B3%BC%EC%A0%9C14.ipynb\" target=\"_parent\"><img src=\"https://colab.research.google.com/assets/colab-badge.svg\" alt=\"Open In Colab\"/></a>"
      ]
    },
    {
      "cell_type": "code",
      "metadata": {
        "id": "x-Q7FC3B9Q6D",
        "colab_type": "code",
        "colab": {
          "base_uri": "https://localhost:8080/",
          "height": 235
        },
        "outputId": "ca643c45-ac8a-4fc5-ad0c-6ab3a3547ef0"
      },
      "source": [
        "import numpy as np\n",
        "from scipy import linalg as la\n",
        "import sympy as sp\n",
        "\n",
        "A = np.array([[2, 2, 6],\n",
        "              [1, 3, 9],\n",
        "              [6, 1, 0]])\n",
        "eigValue, eigVector = la.eig(A)\n",
        "\n",
        "print('-----------------------------------------------')\n",
        "print('tr(A) = ? ', np.trace(A))\n",
        "print('sum(A_ii) = ? ', sum(A[i,i] for i in range(3)))\n",
        "print('sum(eigValue_ii = ? ',  sum(eigValue).real)\n",
        "print(np.trace(A) == sum(A[i,i] for i in range(3)) == round(sum(eigValue).real))\n",
        "print('-----------------------------------------------')\n",
        "print('')\n",
        "print('-----------------------------------------------')\n",
        "print('|A| = ? ', np.linalg.det(A))\n",
        "print('mul(eigValue) = ? ', np.linalg.det(np.diag(eigValue)))\n",
        "print(round(np.linalg.det(A)) == round(np.linalg.det(np.diag(eigValue))))\n",
        "print('-----------------------------------------------')"
      ],
      "execution_count": 149,
      "outputs": [
        {
          "output_type": "stream",
          "text": [
            "-----------------------------------------------\n",
            "tr(A) = ?  5\n",
            "sum(A_ii) = ?  5\n",
            "sum(eigValue_ii = ?  5.000000000000001\n",
            "True\n",
            "-----------------------------------------------\n",
            "\n",
            "-----------------------------------------------\n",
            "|A| = ?  -12.000000000000005\n",
            "mul(eigValue) = ?  (-11.999999999999984+0j)\n",
            "True\n",
            "-----------------------------------------------\n"
          ],
          "name": "stdout"
        }
      ]
    }
  ]
}
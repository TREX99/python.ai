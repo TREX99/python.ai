{
  "nbformat": 4,
  "nbformat_minor": 0,
  "metadata": {
    "colab": {
      "name": "1주차-과제1",
      "provenance": [],
      "collapsed_sections": [],
      "authorship_tag": "ABX9TyMas3s3Ap6xz38Ok+5C1Y34",
      "include_colab_link": true
    },
    "kernelspec": {
      "name": "python3",
      "display_name": "Python 3"
    }
  },
  "cells": [
    {
      "cell_type": "markdown",
      "metadata": {
        "id": "view-in-github",
        "colab_type": "text"
      },
      "source": [
        "<a href=\"https://colab.research.google.com/github/TREX99/python.ai/blob/master/1%EC%A3%BC%EC%B0%A8_%EA%B3%BC%EC%A0%9C1.ipynb\" target=\"_parent\"><img src=\"https://colab.research.google.com/assets/colab-badge.svg\" alt=\"Open In Colab\"/></a>"
      ]
    },
    {
      "cell_type": "markdown",
      "metadata": {
        "id": "tj6-98rMpYUY",
        "colab_type": "text"
      },
      "source": [
        "1~10까지의 수로 구성된 벡터 만들기"
      ]
    },
    {
      "cell_type": "code",
      "metadata": {
        "id": "ZolcqU42e0qt",
        "colab_type": "code",
        "colab": {}
      },
      "source": [
        "import numpy as np"
      ],
      "execution_count": 0,
      "outputs": []
    },
    {
      "cell_type": "code",
      "metadata": {
        "id": "pUtmCTSDk5Ye",
        "colab_type": "code",
        "colab": {}
      },
      "source": [
        "data = np.arange(1, 11, 1)"
      ],
      "execution_count": 0,
      "outputs": []
    },
    {
      "cell_type": "code",
      "metadata": {
        "id": "9hs72Gx8l_85",
        "colab_type": "code",
        "outputId": "12d2ee4e-d80b-4e37-cd7c-6155203c9c2f",
        "colab": {
          "base_uri": "https://localhost:8080/",
          "height": 36
        }
      },
      "source": [
        "data"
      ],
      "execution_count": 88,
      "outputs": [
        {
          "output_type": "execute_result",
          "data": {
            "text/plain": [
              "array([ 1,  2,  3,  4,  5,  6,  7,  8,  9, 10])"
            ]
          },
          "metadata": {
            "tags": []
          },
          "execution_count": 88
        }
      ]
    },
    {
      "cell_type": "markdown",
      "metadata": {
        "id": "4Y9exF3Aqyc4",
        "colab_type": "text"
      },
      "source": [
        "7번째 값만 1이고 나머지는 0인 e7 벡터 생성"
      ]
    },
    {
      "cell_type": "code",
      "metadata": {
        "colab_type": "code",
        "id": "dJ2trVWwvqi0",
        "colab": {}
      },
      "source": [
        "import numpy as np"
      ],
      "execution_count": 0,
      "outputs": []
    },
    {
      "cell_type": "code",
      "metadata": {
        "id": "Lnt1XxTzrC5S",
        "colab_type": "code",
        "colab": {}
      },
      "source": [
        "data_e7 = np.eye(1, 10, 6, dtype=int)[0]"
      ],
      "execution_count": 0,
      "outputs": []
    },
    {
      "cell_type": "code",
      "metadata": {
        "id": "oiJjZzSewsfh",
        "colab_type": "code",
        "colab": {
          "base_uri": "https://localhost:8080/",
          "height": 36
        },
        "outputId": "fa005cb8-9c02-4330-b731-ae35f4d6c92a"
      },
      "source": [
        "data_e7"
      ],
      "execution_count": 91,
      "outputs": [
        {
          "output_type": "execute_result",
          "data": {
            "text/plain": [
              "array([0, 0, 0, 0, 0, 0, 1, 0, 0, 0])"
            ]
          },
          "metadata": {
            "tags": []
          },
          "execution_count": 91
        }
      ]
    }
  ]
}
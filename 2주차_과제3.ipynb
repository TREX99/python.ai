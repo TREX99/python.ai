{
  "nbformat": 4,
  "nbformat_minor": 0,
  "metadata": {
    "colab": {
      "name": "2주차_과제3.ipynb",
      "provenance": [],
      "collapsed_sections": [],
      "authorship_tag": "ABX9TyO3XmuWzaIH6FU62wG7kpH7",
      "include_colab_link": true
    },
    "kernelspec": {
      "name": "python3",
      "display_name": "Python 3"
    }
  },
  "cells": [
    {
      "cell_type": "markdown",
      "metadata": {
        "id": "view-in-github",
        "colab_type": "text"
      },
      "source": [
        "<a href=\"https://colab.research.google.com/github/TREX99/python.ai/blob/master/2%EC%A3%BC%EC%B0%A8_%EA%B3%BC%EC%A0%9C3.ipynb\" target=\"_parent\"><img src=\"https://colab.research.google.com/assets/colab-badge.svg\" alt=\"Open In Colab\"/></a>"
      ]
    },
    {
      "cell_type": "markdown",
      "metadata": {
        "id": "IsVyVeZf-el2",
        "colab_type": "text"
      },
      "source": [
        "1) 파이썬으로 벡터 aT = [1, 2, 3, 4]에 대하여 a / ||a|| 값을 구해보자"
      ]
    },
    {
      "cell_type": "code",
      "metadata": {
        "id": "VUQc2tfs7k3J",
        "colab_type": "code",
        "outputId": "fe26b081-c86d-4e8b-af98-2f6f692725e3",
        "colab": {
          "base_uri": "https://localhost:8080/",
          "height": 107
        }
      },
      "source": [
        "import numpy as np\n",
        "from scipy import linalg as la\n",
        "\n",
        "a = np.arange(1, 5, 1)\n",
        "print(\"a = {}\".format(a))\n",
        "print(\"a`t = {}\".format(a.T))\n",
        "print(\"\")\n",
        "\n",
        "norm_a = la.norm(a)\n",
        "print(\"value of '||a||' = {}\".format(norm_a))\n",
        "\n",
        "result = a / norm_a\n",
        "print(\"value of 'a/||a||' = {}\".format(result))"
      ],
      "execution_count": 0,
      "outputs": [
        {
          "output_type": "stream",
          "text": [
            "a = [1 2 3 4]\n",
            "a`t = [1 2 3 4]\n",
            "\n",
            "value of '||a||' = 5.477225575051661\n",
            "value of 'a/||a||' = [0.18257419 0.36514837 0.54772256 0.73029674]\n"
          ],
          "name": "stdout"
        }
      ]
    },
    {
      "cell_type": "markdown",
      "metadata": {
        "id": "3IzeDk0o-t8N",
        "colab_type": "text"
      },
      "source": [
        "2) 파이썬으로 a / ||a|| 에 대하여 || a / ||a|| || 의 값을 구해보자"
      ]
    },
    {
      "cell_type": "code",
      "metadata": {
        "id": "HJFoH5B8-3hn",
        "colab_type": "code",
        "outputId": "724f2839-a88e-420f-f85e-e45747e5e9d6",
        "colab": {
          "base_uri": "https://localhost:8080/",
          "height": 71
        }
      },
      "source": [
        "import numpy as np\n",
        "from scipy import linalg as la\n",
        "\n",
        "a = np.arange(1, 5, 1)\n",
        "norm_a = la.norm(a)\n",
        "print(\"value of '||a||' = {}\".format(norm_a))\n",
        "\n",
        "b = a / norm_a\n",
        "print(\"value of 'a/||a||' = {}\".format(b))\n",
        "\n",
        "result = la.norm(b)\n",
        "print(\"value of '|| a/||a|| ||' = {}\".format(result))"
      ],
      "execution_count": 0,
      "outputs": [
        {
          "output_type": "stream",
          "text": [
            "value of '||a||' = 5.477225575051661\n",
            "value of 'a/||a||' = [0.18257419 0.36514837 0.54772256 0.73029674]\n",
            "value of '|| a/||a|| ||' = 0.9999999999999999\n"
          ],
          "name": "stdout"
        }
      ]
    }
  ]
}
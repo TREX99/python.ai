{
  "nbformat": 4,
  "nbformat_minor": 0,
  "metadata": {
    "colab": {
      "name": "3주차_과제12.ipynb",
      "provenance": [],
      "collapsed_sections": [],
      "authorship_tag": "ABX9TyM+X9all1A0eBg76ucr1A/1",
      "include_colab_link": true
    },
    "kernelspec": {
      "name": "python3",
      "display_name": "Python 3"
    }
  },
  "cells": [
    {
      "cell_type": "markdown",
      "metadata": {
        "id": "view-in-github",
        "colab_type": "text"
      },
      "source": [
        "<a href=\"https://colab.research.google.com/github/TREX99/python.ai/blob/master/3%EC%A3%BC%EC%B0%A8_%EA%B3%BC%EC%A0%9C12.ipynb\" target=\"_parent\"><img src=\"https://colab.research.google.com/assets/colab-badge.svg\" alt=\"Open In Colab\"/></a>"
      ]
    },
    {
      "cell_type": "code",
      "metadata": {
        "id": "vAwjb34IY3I0",
        "colab_type": "code",
        "outputId": "d0ba296c-2d39-4130-bfdf-5171d2ce3edc",
        "colab": {
          "base_uri": "https://localhost:8080/",
          "height": 35
        }
      },
      "source": [
        "import numpy as np\n",
        "from scipy import linalg as la\n",
        "\n",
        "A = np.array([[14, 13, 14, 2], [12, 2, 6, 1], [3, 10, 11, 9], [6, 1, 0, 1]])\n",
        "b = np.array([-1, 6, 0, 2])\n",
        "\n",
        "Q, R = la.qr(A)\n",
        "\n",
        "A_inverse = la.inv(A)\n",
        "x = A_inverse @ b\n",
        "print(x)\n",
        "\n",
        "\n",
        "######## x4값에 대한 검증\n",
        "#print(Q)\n",
        "#print(R)\n",
        "#x4 = 2.60266839 / 4.90652296\n",
        "#print(x4) = 0.5304506696937987\n"
      ],
      "execution_count": 27,
      "outputs": [
        {
          "output_type": "stream",
          "text": [
            "[ 0.42295981 -1.0682095   0.42174178  0.53045067]\n"
          ],
          "name": "stdout"
        }
      ]
    }
  ]
}
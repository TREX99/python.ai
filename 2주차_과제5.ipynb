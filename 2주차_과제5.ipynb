{
  "nbformat": 4,
  "nbformat_minor": 0,
  "metadata": {
    "colab": {
      "name": "2주차_과제5.ipynb",
      "provenance": [],
      "authorship_tag": "ABX9TyMW9BKZCyofcVyuezoNXMHT",
      "include_colab_link": true
    },
    "kernelspec": {
      "name": "python3",
      "display_name": "Python 3"
    }
  },
  "cells": [
    {
      "cell_type": "markdown",
      "metadata": {
        "id": "view-in-github",
        "colab_type": "text"
      },
      "source": [
        "<a href=\"https://colab.research.google.com/github/TREX99/python.ai/blob/master/2%EC%A3%BC%EC%B0%A8_%EA%B3%BC%EC%A0%9C5.ipynb\" target=\"_parent\"><img src=\"https://colab.research.google.com/assets/colab-badge.svg\" alt=\"Open In Colab\"/></a>"
      ]
    },
    {
      "cell_type": "code",
      "metadata": {
        "id": "ye_84OM9Jpt5",
        "colab_type": "code",
        "colab": {
          "base_uri": "https://localhost:8080/",
          "height": 71
        },
        "outputId": "b15607f5-240a-41ad-f0f8-d048cebf8e1f"
      },
      "source": [
        "import numpy as np\n",
        "from scipy import linalg as la\n",
        "import math\n",
        "\n",
        "beta = 1 / math.sqrt(2)\n",
        "a1 = np.array([0, 0, 1])\n",
        "a2 = np.array([1, 1, 0])\n",
        "a2 = beta * b\n",
        "a3 = np.array([1, -1, 0])\n",
        "a3 = beta * c\n",
        "\n",
        "print(\"내적 계산결과 a1 a2 = {}\".format(np.dot(a1, a2)))\n",
        "print(\"내적 계산결과 a1 a3 = {}\".format(np.dot(a1, a3)))\n",
        "print(\"내적 계산결과 a2 a3 = {}\".format(np.dot(a2, a3)))"
      ],
      "execution_count": 17,
      "outputs": [
        {
          "output_type": "stream",
          "text": [
            "내적 계산결과 a1 a2 = 0.0\n",
            "내적 계산결과 a1 a3 = 0.0\n",
            "내적 계산결과 a2 a3 = 0.0\n"
          ],
          "name": "stdout"
        }
      ]
    },
    {
      "cell_type": "code",
      "metadata": {
        "id": "XxgYmjCnKNq1",
        "colab_type": "code",
        "colab": {
          "base_uri": "https://localhost:8080/",
          "height": 35
        },
        "outputId": "8b9f24bb-0fc9-4610-eb93-475bee4eb081"
      },
      "source": [
        "import numpy as np\n",
        "from scipy import linalg as la\n",
        "import math\n",
        "\n",
        "beta = 1 / math.sqrt(2)\n",
        "a = np.array([0, 0, 1])\n",
        "b = np.array([1, 1, 0])\n",
        "b = beta * b\n",
        "c = np.array([1, -1, 0])\n",
        "c = beta * c\n",
        "\n",
        "[\"각 벡터의 norm결과 \", la.norm(a), la.norm(b), la.norm(c)]"
      ],
      "execution_count": 18,
      "outputs": [
        {
          "output_type": "execute_result",
          "data": {
            "text/plain": [
              "['각 벡터의 norm결과 ', 1.0, 0.9999999999999999, 0.9999999999999999]"
            ]
          },
          "metadata": {
            "tags": []
          },
          "execution_count": 18
        }
      ]
    }
  ]
}
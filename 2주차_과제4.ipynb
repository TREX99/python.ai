{
  "nbformat": 4,
  "nbformat_minor": 0,
  "metadata": {
    "colab": {
      "name": "2주차_과제4.ipynb",
      "provenance": [],
      "collapsed_sections": [],
      "authorship_tag": "ABX9TyONF0kmZUhUxJh1xx8bjdaR",
      "include_colab_link": true
    },
    "kernelspec": {
      "name": "python3",
      "display_name": "Python 3"
    }
  },
  "cells": [
    {
      "cell_type": "markdown",
      "metadata": {
        "id": "view-in-github",
        "colab_type": "text"
      },
      "source": [
        "<a href=\"https://colab.research.google.com/github/TREX99/python.ai/blob/master/2%EC%A3%BC%EC%B0%A8_%EA%B3%BC%EC%A0%9C4.ipynb\" target=\"_parent\"><img src=\"https://colab.research.google.com/assets/colab-badge.svg\" alt=\"Open In Colab\"/></a>"
      ]
    },
    {
      "cell_type": "markdown",
      "metadata": {
        "id": "eCriWaTGe7yg",
        "colab_type": "text"
      },
      "source": [
        "1) [0, 1]T, [1, 0]T으로 정의된 벡터 cos(θ) 값과 두 벡터가 이루는 각도를 구해보자."
      ]
    },
    {
      "cell_type": "code",
      "metadata": {
        "id": "gXAn0cbRe57a",
        "colab_type": "code",
        "outputId": "0c4a7894-0eaf-4c00-e3ee-1118158b3689",
        "colab": {
          "base_uri": "https://localhost:8080/",
          "height": 53
        }
      },
      "source": [
        "import numpy as np\n",
        "from scipy import linalg as la\n",
        "import math\n",
        "\n",
        "a = np.array([0, 1])\n",
        "b = np.array([1, 0])\n",
        "\n",
        "# 코사인 세타 라디안 값\n",
        "cos_theta_rad = np.dot(a,b) / (la.norm(a) * la.norm(b))\n",
        "\n",
        "# 세타 라디안 값 = arccos(코사인 세타 라디안)\n",
        "theta_rad = np.arccos(cos_theta_rad)\n",
        "\n",
        "# 세타 라디안을 각도로 전환\n",
        "#   방법(1). pi radian = 180 degree\n",
        "#   방법(2). math.degress()\n",
        "theta = theta_rad * (180 / np.pi)\n",
        "#theta = math.degrees(theta_rad)\n",
        "\n",
        "print(\"cos(θ) 값 = {}\".format(cos_theta_rad))\n",
        "print(\"degree = {}\".format(theta))\n"
      ],
      "execution_count": 0,
      "outputs": [
        {
          "output_type": "stream",
          "text": [
            "cos(θ) 값 = 0.0\n",
            "degree = 90.0\n"
          ],
          "name": "stdout"
        }
      ]
    },
    {
      "cell_type": "markdown",
      "metadata": {
        "id": "RgxnvLKug2Db",
        "colab_type": "text"
      },
      "source": [
        "2) [-1, -1]T, [1, 0]T 으로 정의된 벡터 cos(θ) 값과 두 벡터가 이루는 각도를 구해보자."
      ]
    },
    {
      "cell_type": "code",
      "metadata": {
        "id": "he0UlguchHVe",
        "colab_type": "code",
        "outputId": "440642c3-cce7-4fe2-c3cf-81525631823d",
        "colab": {
          "base_uri": "https://localhost:8080/",
          "height": 53
        }
      },
      "source": [
        "import numpy as np\n",
        "from scipy import linalg as la\n",
        "\n",
        "a = np.array([-1, -1])\n",
        "b = np.array([1, 0])\n",
        "\n",
        "# 코사인 세타 라디안 값\n",
        "cos_theta_rad = np.dot(a,b) / (la.norm(a) * la.norm(b))\n",
        "\n",
        "# 세타 라디안 값 = arccos(코사인 세타 라디안)\n",
        "theta_rad = np.arccos(cos_theta_rad)\n",
        "\n",
        "# 세타 라디안을 각도로 전환\n",
        "#   방법(1). pi radian = 180 degree\n",
        "#   방법(2). math.degress()\n",
        "theta = theta_rad * (180 / np.pi)\n",
        "#theta = math.degrees(theta_rad)\n",
        "\n",
        "print(\"cos(θ) 값 = {}\".format(cos_theta_rad))\n",
        "print(\"degree = {}\".format(theta))   # 90도 + 45도\n"
      ],
      "execution_count": 0,
      "outputs": [
        {
          "output_type": "stream",
          "text": [
            "cos(θ) 값 = -0.7071067811865475\n",
            "degree = 135.0\n"
          ],
          "name": "stdout"
        }
      ]
    }
  ]
}
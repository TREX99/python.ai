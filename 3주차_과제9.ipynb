{
  "nbformat": 4,
  "nbformat_minor": 0,
  "metadata": {
    "colab": {
      "name": "3주차_과제9.ipynb",
      "provenance": [],
      "authorship_tag": "ABX9TyMsnS23Y0RvQLRfyKKQulhq",
      "include_colab_link": true
    },
    "kernelspec": {
      "name": "python3",
      "display_name": "Python 3"
    }
  },
  "cells": [
    {
      "cell_type": "markdown",
      "metadata": {
        "id": "view-in-github",
        "colab_type": "text"
      },
      "source": [
        "<a href=\"https://colab.research.google.com/github/TREX99/python.ai/blob/master/3%EC%A3%BC%EC%B0%A8_%EA%B3%BC%EC%A0%9C9.ipynb\" target=\"_parent\"><img src=\"https://colab.research.google.com/assets/colab-badge.svg\" alt=\"Open In Colab\"/></a>"
      ]
    },
    {
      "cell_type": "code",
      "metadata": {
        "id": "DU2XV0UkSVLw",
        "colab_type": "code",
        "outputId": "acfb7128-ac82-49f9-f1cb-ca39195ac909",
        "colab": {
          "base_uri": "https://localhost:8080/",
          "height": 35
        }
      },
      "source": [
        "import numpy as np\n",
        "\n",
        "A = np.arange(1, 13).reshape(4, 3)\n",
        "\n",
        "A[[1, 2], [1, 2]]"
      ],
      "execution_count": 298,
      "outputs": [
        {
          "output_type": "execute_result",
          "data": {
            "text/plain": [
              "array([5, 9])"
            ]
          },
          "metadata": {
            "tags": []
          },
          "execution_count": 298
        }
      ]
    },
    {
      "cell_type": "code",
      "metadata": {
        "id": "Hrg_tIiBJbFm",
        "colab_type": "code",
        "outputId": "dfbcfb5b-8518-474f-d53a-de4a69e60a02",
        "colab": {
          "base_uri": "https://localhost:8080/",
          "height": 53
        }
      },
      "source": [
        "import numpy as np\n",
        "\n",
        "A = np.arange(1, 13).reshape(4, 3)\n",
        "\n",
        "A[2:4,1:3]"
      ],
      "execution_count": 299,
      "outputs": [
        {
          "output_type": "execute_result",
          "data": {
            "text/plain": [
              "array([[ 8,  9],\n",
              "       [11, 12]])"
            ]
          },
          "metadata": {
            "tags": []
          },
          "execution_count": 299
        }
      ]
    }
  ]
}
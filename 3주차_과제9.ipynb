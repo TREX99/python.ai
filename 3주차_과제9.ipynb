{
  "nbformat": 4,
  "nbformat_minor": 0,
  "metadata": {
    "colab": {
      "name": "3주차_과제9.ipynb",
      "provenance": [],
      "authorship_tag": "ABX9TyPvd59anYllirYuJkFQpbM+",
      "include_colab_link": true
    },
    "kernelspec": {
      "name": "python3",
      "display_name": "Python 3"
    }
  },
  "cells": [
    {
      "cell_type": "markdown",
      "metadata": {
        "id": "view-in-github",
        "colab_type": "text"
      },
      "source": [
        "<a href=\"https://colab.research.google.com/github/TREX99/python.ai/blob/master/3%EC%A3%BC%EC%B0%A8_%EA%B3%BC%EC%A0%9C9.ipynb\" target=\"_parent\"><img src=\"https://colab.research.google.com/assets/colab-badge.svg\" alt=\"Open In Colab\"/></a>"
      ]
    },
    {
      "cell_type": "code",
      "metadata": {
        "id": "DU2XV0UkSVLw",
        "colab_type": "code",
        "outputId": "2dce339c-9159-4283-a5d7-3a2250df4d97",
        "colab": {
          "base_uri": "https://localhost:8080/",
          "height": 35
        }
      },
      "source": [
        "import numpy as np\n",
        "\n",
        "A  = np.arange(1, 13).reshape(4, 3)\n",
        "\n",
        "finvValue = A[[1, 2], 1:][0, 0];\n",
        "nineValue = A[[1, 2], 1:][1, 1];\n",
        "\n",
        "(finvValue, nineValue)"
      ],
      "execution_count": 228,
      "outputs": [
        {
          "output_type": "execute_result",
          "data": {
            "text/plain": [
              "(5, 9)"
            ]
          },
          "metadata": {
            "tags": []
          },
          "execution_count": 228
        }
      ]
    },
    {
      "cell_type": "markdown",
      "metadata": {
        "id": "lOlKZGZSiW70",
        "colab_type": "text"
      },
      "source": [
        "또는"
      ]
    },
    {
      "cell_type": "code",
      "metadata": {
        "id": "Hrg_tIiBJbFm",
        "colab_type": "code",
        "colab": {
          "base_uri": "https://localhost:8080/",
          "height": 35
        },
        "outputId": "0b2bf872-3e56-48e4-9362-208f53e444c2"
      },
      "source": [
        "import numpy as np\n",
        "\n",
        "A  = np.arange(1, 13).reshape(4, 3)\n",
        "\n",
        "finvValue = A[1, 1];\n",
        "nineValue = A[2, 2];\n",
        "\n",
        "(finvValue, nineValue)"
      ],
      "execution_count": 231,
      "outputs": [
        {
          "output_type": "execute_result",
          "data": {
            "text/plain": [
              "(5, 9)"
            ]
          },
          "metadata": {
            "tags": []
          },
          "execution_count": 231
        }
      ]
    },
    {
      "cell_type": "code",
      "metadata": {
        "id": "7PHxB-oiarHN",
        "colab_type": "code",
        "colab": {
          "base_uri": "https://localhost:8080/",
          "height": 53
        },
        "outputId": "a40f3785-26cb-4df1-f52d-1127543ef8ed"
      },
      "source": [
        "import numpy as np\n",
        "\n",
        "A  = np.arange(1, 13).reshape(4, 3)\n",
        "\n",
        "A[2:, 1:]"
      ],
      "execution_count": 242,
      "outputs": [
        {
          "output_type": "execute_result",
          "data": {
            "text/plain": [
              "array([[ 8,  9],\n",
              "       [11, 12]])"
            ]
          },
          "metadata": {
            "tags": []
          },
          "execution_count": 242
        }
      ]
    }
  ]
}
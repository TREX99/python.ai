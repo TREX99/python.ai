{
  "nbformat": 4,
  "nbformat_minor": 0,
  "metadata": {
    "colab": {
      "name": "3주차_과제8.ipynb",
      "provenance": [],
      "authorship_tag": "ABX9TyMiU6YeKFopvIz0IyscfPsj",
      "include_colab_link": true
    },
    "kernelspec": {
      "name": "python3",
      "display_name": "Python 3"
    }
  },
  "cells": [
    {
      "cell_type": "markdown",
      "metadata": {
        "id": "view-in-github",
        "colab_type": "text"
      },
      "source": [
        "<a href=\"https://colab.research.google.com/github/TREX99/python.ai/blob/master/3%EC%A3%BC%EC%B0%A8_%EA%B3%BC%EC%A0%9C8.ipynb\" target=\"_parent\"><img src=\"https://colab.research.google.com/assets/colab-badge.svg\" alt=\"Open In Colab\"/></a>"
      ]
    },
    {
      "cell_type": "code",
      "metadata": {
        "id": "DU2XV0UkSVLw",
        "colab_type": "code",
        "outputId": "a069d0ea-1d1b-4c1d-e4c3-42eec1d03973",
        "colab": {
          "base_uri": "https://localhost:8080/",
          "height": 71
        }
      },
      "source": [
        "import numpy as np\n",
        "\n",
        "A = np.arange(1, 7).reshape(2, 3)\n",
        "B = np.arange(3, 9).reshape(2, 3)\n",
        "\n",
        "A.T @ B"
      ],
      "execution_count": 245,
      "outputs": [
        {
          "output_type": "execute_result",
          "data": {
            "text/plain": [
              "array([[27, 32, 37],\n",
              "       [36, 43, 50],\n",
              "       [45, 54, 63]])"
            ]
          },
          "metadata": {
            "tags": []
          },
          "execution_count": 245
        }
      ]
    },
    {
      "cell_type": "markdown",
      "metadata": {
        "id": "lOlKZGZSiW70",
        "colab_type": "text"
      },
      "source": [
        "또는"
      ]
    },
    {
      "cell_type": "code",
      "metadata": {
        "id": "Hrg_tIiBJbFm",
        "colab_type": "code",
        "outputId": "d7d63a88-0634-42cc-b912-4827998e423a",
        "colab": {
          "base_uri": "https://localhost:8080/",
          "height": 71
        }
      },
      "source": [
        "import numpy as np\n",
        "\n",
        "A = np.arange(1, 7).reshape(2, 3)\n",
        "B = np.arange(3, 9).reshape(2, 3)\n",
        "\n",
        "(A.T @ B).T == B.T @ A"
      ],
      "execution_count": 246,
      "outputs": [
        {
          "output_type": "execute_result",
          "data": {
            "text/plain": [
              "array([[ True,  True,  True],\n",
              "       [ True,  True,  True],\n",
              "       [ True,  True,  True]])"
            ]
          },
          "metadata": {
            "tags": []
          },
          "execution_count": 246
        }
      ]
    }
  ]
}
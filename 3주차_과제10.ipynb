{
  "nbformat": 4,
  "nbformat_minor": 0,
  "metadata": {
    "colab": {
      "name": "3주차_과제10.ipynb",
      "provenance": [],
      "collapsed_sections": [],
      "authorship_tag": "ABX9TyMy4WII0v45xes8xN/B4+QA",
      "include_colab_link": true
    },
    "kernelspec": {
      "name": "python3",
      "display_name": "Python 3"
    }
  },
  "cells": [
    {
      "cell_type": "markdown",
      "metadata": {
        "id": "view-in-github",
        "colab_type": "text"
      },
      "source": [
        "<a href=\"https://colab.research.google.com/github/TREX99/python.ai/blob/master/3%EC%A3%BC%EC%B0%A8_%EA%B3%BC%EC%A0%9C10.ipynb\" target=\"_parent\"><img src=\"https://colab.research.google.com/assets/colab-badge.svg\" alt=\"Open In Colab\"/></a>"
      ]
    },
    {
      "cell_type": "code",
      "metadata": {
        "id": "tZADVU-9taUg",
        "colab_type": "code",
        "colab": {
          "base_uri": "https://localhost:8080/",
          "height": 71
        },
        "outputId": "158068d8-b72c-4ebd-9672-895392060e57"
      },
      "source": [
        "import numpy as np\n",
        "\n",
        "A = np.array([[7, 2, 0], [2, 1, 3], [4, 8, 3]])\n",
        "\n",
        "np.diag(A[[0, 1, 2], [0, 1, 2]])"
      ],
      "execution_count": 58,
      "outputs": [
        {
          "output_type": "execute_result",
          "data": {
            "text/plain": [
              "array([[7, 0, 0],\n",
              "       [0, 1, 0],\n",
              "       [0, 0, 3]])"
            ]
          },
          "metadata": {
            "tags": []
          },
          "execution_count": 58
        }
      ]
    },
    {
      "cell_type": "code",
      "metadata": {
        "id": "V-fSPY1OtdSt",
        "colab_type": "code",
        "colab": {
          "base_uri": "https://localhost:8080/",
          "height": 71
        },
        "outputId": "eae0f3b7-8cb0-4a67-a948-5ca411b93fef"
      },
      "source": [
        "import numpy as np\n",
        "\n",
        "A = np.array([[7, 2, 0], [2, 1, 3], [4, 8, 3]])\n",
        "\n",
        "B = A.T @ A \n",
        "\n",
        "B == B.T"
      ],
      "execution_count": 59,
      "outputs": [
        {
          "output_type": "execute_result",
          "data": {
            "text/plain": [
              "array([[ True,  True,  True],\n",
              "       [ True,  True,  True],\n",
              "       [ True,  True,  True]])"
            ]
          },
          "metadata": {
            "tags": []
          },
          "execution_count": 59
        }
      ]
    },
    {
      "cell_type": "code",
      "metadata": {
        "id": "3psMmKVTtduL",
        "colab_type": "code",
        "colab": {
          "base_uri": "https://localhost:8080/",
          "height": 143
        },
        "outputId": "4a107bae-f758-49f0-ed0c-e5b93177279a"
      },
      "source": [
        "import numpy as np\n",
        "\n",
        "B = np.array([[1, 0, 0], [0, -1, 0], [0, 0, -1]])\n",
        "\n",
        "# 직교행렬의 정의에 따라 A.T@A = A@A.T 이며 그 값이 항등행렬이어야 한다.\n",
        "\n",
        "print(B @ B.T == B.T @ B)\n",
        "print(\"-------------------\")\n",
        "print(B.T @ B)\n",
        "\n"
      ],
      "execution_count": 60,
      "outputs": [
        {
          "output_type": "stream",
          "text": [
            "[[ True  True  True]\n",
            " [ True  True  True]\n",
            " [ True  True  True]]\n",
            "-------------------\n",
            "[[1 0 0]\n",
            " [0 1 0]\n",
            " [0 0 1]]\n"
          ],
          "name": "stdout"
        }
      ]
    }
  ]
}
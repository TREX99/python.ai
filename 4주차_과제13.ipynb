{
  "nbformat": 4,
  "nbformat_minor": 0,
  "metadata": {
    "colab": {
      "name": "4주차_과제13.ipynb",
      "provenance": [],
      "collapsed_sections": [],
      "authorship_tag": "ABX9TyNA8LLCoqXmsnVrudj/Ifne",
      "include_colab_link": true
    },
    "kernelspec": {
      "name": "python3",
      "display_name": "Python 3"
    }
  },
  "cells": [
    {
      "cell_type": "markdown",
      "metadata": {
        "id": "view-in-github",
        "colab_type": "text"
      },
      "source": [
        "<a href=\"https://colab.research.google.com/github/TREX99/python.ai/blob/master/4%EC%A3%BC%EC%B0%A8_%EA%B3%BC%EC%A0%9C13.ipynb\" target=\"_parent\"><img src=\"https://colab.research.google.com/assets/colab-badge.svg\" alt=\"Open In Colab\"/></a>"
      ]
    },
    {
      "cell_type": "code",
      "metadata": {
        "id": "PMLVC3j4_UDe",
        "colab_type": "code",
        "colab": {
          "base_uri": "https://localhost:8080/",
          "height": 89
        },
        "outputId": "a874f5bd-5473-4e9e-a596-012ec442c4cb"
      },
      "source": [
        "import sympy as sp\n",
        "\n",
        "c = 100\n",
        "A = sp.Matrix([[2, 2, 6], [1, 3, 9], [6, 1, 0]])\n",
        "B = sp.Matrix([[1, 9, 0], [0, 9, 3], [4, 0, 0]])\n",
        "rank = A.rank()\n",
        "\n",
        "print('|A.T| = |A| ? ', sp.det(A) == sp.det(A.T))\n",
        "print('|invert A| = 1/|A| = invert(|A|) ? ', sp.det(A.inv()) == 1/sp.det(A) == sp.det(A) ** -1)\n",
        "print('|AB| = |A||B| ? ', sp.det(A*B) == sp.det(A) * sp.det(B))\n",
        "print('|cA| = c**n|A| ? ', sp.det(c*A) == c ** rank * sp.det(A))\n"
      ],
      "execution_count": 32,
      "outputs": [
        {
          "output_type": "stream",
          "text": [
            "|A.T| = |A| ?  True\n",
            "|invert A| = 1/|A| = invert(|A|) ?  True\n",
            "|AB| = |A||B| ?  True\n",
            "|cA| = c**n|A| ?  True\n"
          ],
          "name": "stdout"
        }
      ]
    },
    {
      "cell_type": "code",
      "metadata": {
        "id": "a9BTCOU3BTIw",
        "colab_type": "code",
        "colab": {
          "base_uri": "https://localhost:8080/",
          "height": 35
        },
        "outputId": "14fac8e0-5d7d-4c85-a7ca-078ac5a1c7d2"
      },
      "source": [
        "import sympy as sp\n",
        "import numpy as np\n",
        "\n",
        "C = sp.Matrix([[4, 1, 7], [0, 2, 4], [0, 0, 4]])\n",
        "\n",
        "print('|C| = c11 * c22 * c33 ? ', sp.det(C) == C[0, 0] * C[1, 1] * C[2, 2])"
      ],
      "execution_count": 33,
      "outputs": [
        {
          "output_type": "stream",
          "text": [
            "|C| = c11 * c22 * c33 ?  True\n"
          ],
          "name": "stdout"
        }
      ]
    },
    {
      "cell_type": "code",
      "metadata": {
        "id": "EGrDohwjA0zK",
        "colab_type": "code",
        "colab": {}
      },
      "source": [
        ""
      ],
      "execution_count": 0,
      "outputs": []
    },
    {
      "cell_type": "code",
      "metadata": {
        "id": "ZiNomUqiAzC_",
        "colab_type": "code",
        "colab": {}
      },
      "source": [
        ""
      ],
      "execution_count": 0,
      "outputs": []
    }
  ]
}
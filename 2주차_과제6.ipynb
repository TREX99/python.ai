{
  "nbformat": 4,
  "nbformat_minor": 0,
  "metadata": {
    "colab": {
      "name": "2주차_과제6.ipynb",
      "provenance": [],
      "authorship_tag": "ABX9TyOMN7NgMbxERp8P2YM44xqW",
      "include_colab_link": true
    },
    "kernelspec": {
      "name": "python3",
      "display_name": "Python 3"
    }
  },
  "cells": [
    {
      "cell_type": "markdown",
      "metadata": {
        "id": "view-in-github",
        "colab_type": "text"
      },
      "source": [
        "<a href=\"https://colab.research.google.com/github/TREX99/python.ai/blob/master/2%EC%A3%BC%EC%B0%A8_%EA%B3%BC%EC%A0%9C6.ipynb\" target=\"_parent\"><img src=\"https://colab.research.google.com/assets/colab-badge.svg\" alt=\"Open In Colab\"/></a>"
      ]
    },
    {
      "cell_type": "code",
      "metadata": {
        "id": "DU2XV0UkSVLw",
        "colab_type": "code",
        "colab": {
          "base_uri": "https://localhost:8080/",
          "height": 35
        },
        "outputId": "4bd342be-01cd-4267-d5f3-12843f0717c3"
      },
      "source": [
        "import numpy as np\n",
        "from scipy import linalg as la\n",
        "import math\n",
        "\n",
        "a = np.array([[3, 3, 7, 2],\n",
        "               [4, 11, 10, 7],\n",
        "              [2, 1, 2, 10]])\n",
        "a1 = a[:,0]\n",
        "a2 = a[:,1]\n",
        "\n",
        "(\"1번째와 2번째 열벡터의 내적 = \", np.dot(a1, a2))"
      ],
      "execution_count": 2,
      "outputs": [
        {
          "output_type": "execute_result",
          "data": {
            "text/plain": [
              "('1번째와 2번째 열벡터의 내적 = ', 55)"
            ]
          },
          "metadata": {
            "tags": []
          },
          "execution_count": 2
        }
      ]
    },
    {
      "cell_type": "code",
      "metadata": {
        "id": "4teyopUBSjVb",
        "colab_type": "code",
        "colab": {
          "base_uri": "https://localhost:8080/",
          "height": 71
        },
        "outputId": "2f14da88-c88f-4d74-ebca-6b77487e4082"
      },
      "source": [
        "import numpy as np\n",
        "from scipy import linalg as la\n",
        "import math\n",
        "\n",
        "a = np.array([[3, 3, 7, 2],\n",
        "               [4, 11, 10, 7],\n",
        "              [2, 1, 2, 10]])\n",
        "\n",
        "for i, row_vector in enumerate(a):\n",
        "    result = la.norm(row_vector)\n",
        "    print(\"{} 번째 행 벡터의 노름 = {}\".format(i, result))\n"
      ],
      "execution_count": 3,
      "outputs": [
        {
          "output_type": "stream",
          "text": [
            "0 번째 행 벡터의 노름 = 8.426149773176359\n",
            "1 번째 행 벡터의 노름 = 16.911534525287763\n",
            "2 번째 행 벡터의 노름 = 10.44030650891055\n"
          ],
          "name": "stdout"
        }
      ]
    },
    {
      "cell_type": "code",
      "metadata": {
        "id": "xTR7p1jSSlE8",
        "colab_type": "code",
        "colab": {
          "base_uri": "https://localhost:8080/",
          "height": 53
        },
        "outputId": "01df94a4-6ccb-4e72-c746-82f83f1ece77"
      },
      "source": [
        "import numpy as np\n",
        "from scipy import linalg as la\n",
        "import math\n",
        "\n",
        "a = np.array([[3, 3, 7, 2],\n",
        "               [4, 11, 10, 7],\n",
        "              [2, 1, 2, 10]])\n",
        "\n",
        "a22 = a[1,1]\n",
        "a24 = a[1,3]\n",
        "\n",
        "print(\"a22 값 = {}\".format(a22))\n",
        "print(\"a24 값 = {}\".format(a24))"
      ],
      "execution_count": 4,
      "outputs": [
        {
          "output_type": "stream",
          "text": [
            "a22 값 = 11\n",
            "a24 값 = 7\n"
          ],
          "name": "stdout"
        }
      ]
    }
  ]
}
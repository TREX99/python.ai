{
  "nbformat": 4,
  "nbformat_minor": 0,
  "metadata": {
    "colab": {
      "name": "3주차_과제7.ipynb",
      "provenance": [],
      "authorship_tag": "ABX9TyOAN4EQHgPq4Dlbd+gCgX8C",
      "include_colab_link": true
    },
    "kernelspec": {
      "name": "python3",
      "display_name": "Python 3"
    }
  },
  "cells": [
    {
      "cell_type": "markdown",
      "metadata": {
        "id": "view-in-github",
        "colab_type": "text"
      },
      "source": [
        "<a href=\"https://colab.research.google.com/github/TREX99/python.ai/blob/master/3%EC%A3%BC%EC%B0%A8_%EA%B3%BC%EC%A0%9C7.ipynb\" target=\"_parent\"><img src=\"https://colab.research.google.com/assets/colab-badge.svg\" alt=\"Open In Colab\"/></a>"
      ]
    },
    {
      "cell_type": "code",
      "metadata": {
        "id": "DU2XV0UkSVLw",
        "colab_type": "code",
        "outputId": "166f4bf7-98df-4732-d0a6-f5e7be9ab0f4",
        "colab": {
          "base_uri": "https://localhost:8080/",
          "height": 53
        }
      },
      "source": [
        "import numpy as np\n",
        "\n",
        "A = np.arange(1, 7).reshape(2, 3)\n",
        "B = np.arange(3, 9).reshape(2, 3)\n",
        "\n",
        "A + 0.1*B"
      ],
      "execution_count": 9,
      "outputs": [
        {
          "output_type": "execute_result",
          "data": {
            "text/plain": [
              "array([[1.3, 2.4, 3.5],\n",
              "       [4.6, 5.7, 6.8]])"
            ]
          },
          "metadata": {
            "tags": []
          },
          "execution_count": 9
        }
      ]
    }
  ]
}
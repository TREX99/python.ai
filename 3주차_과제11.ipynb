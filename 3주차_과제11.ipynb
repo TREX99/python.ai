{
  "nbformat": 4,
  "nbformat_minor": 0,
  "metadata": {
    "colab": {
      "name": "3주차_과제11.ipynb",
      "provenance": [],
      "collapsed_sections": [],
      "authorship_tag": "ABX9TyMr29gVsPqAGoJkEi6iPvu8",
      "include_colab_link": true
    },
    "kernelspec": {
      "name": "python3",
      "display_name": "Python 3"
    }
  },
  "cells": [
    {
      "cell_type": "markdown",
      "metadata": {
        "id": "view-in-github",
        "colab_type": "text"
      },
      "source": [
        "<a href=\"https://colab.research.google.com/github/TREX99/python.ai/blob/master/3%EC%A3%BC%EC%B0%A8_%EA%B3%BC%EC%A0%9C11.ipynb\" target=\"_parent\"><img src=\"https://colab.research.google.com/assets/colab-badge.svg\" alt=\"Open In Colab\"/></a>"
      ]
    },
    {
      "cell_type": "code",
      "metadata": {
        "id": "YDwItEnC-ama",
        "colab_type": "code",
        "colab": {
          "base_uri": "https://localhost:8080/",
          "height": 35
        },
        "outputId": "cf7de448-0bba-4739-e68d-440b3cfa715b"
      },
      "source": [
        "import numpy as np\n",
        "from scipy import linalg as la\n",
        "\n",
        "e = np.array([1, 0, 0])\n",
        "A = np.array([[7, 2, 0], [2, 1, 3], [4, 8, 3]])\n",
        "a = A[:, 0]\n",
        "\n",
        "a - la.norm(a) * e"
      ],
      "execution_count": 21,
      "outputs": [
        {
          "output_type": "execute_result",
          "data": {
            "text/plain": [
              "array([-1.30662386,  2.        ,  4.        ])"
            ]
          },
          "metadata": {
            "tags": []
          },
          "execution_count": 21
        }
      ]
    },
    {
      "cell_type": "code",
      "metadata": {
        "id": "jFaxczT_Ef3K",
        "colab_type": "code",
        "colab": {
          "base_uri": "https://localhost:8080/",
          "height": 35
        },
        "outputId": "4bc11f8f-6da4-4137-e785-5064e08054ff"
      },
      "source": [
        "import numpy as np\n",
        "from scipy import linalg as la\n",
        "\n",
        "e = np.array([1, 0, 0])\n",
        "A = np.array([[7, 2, 0], [2, 1, 3], [4, 8, 3]])\n",
        "a = A[:, 0]\n",
        "\n",
        "u = a - la.norm(a) * e\n",
        "u / la.norm(u)"
      ],
      "execution_count": 22,
      "outputs": [
        {
          "output_type": "execute_result",
          "data": {
            "text/plain": [
              "array([-0.28044521,  0.42926693,  0.85853386])"
            ]
          },
          "metadata": {
            "tags": []
          },
          "execution_count": 22
        }
      ]
    },
    {
      "cell_type": "code",
      "metadata": {
        "id": "ytbvfBwuEqle",
        "colab_type": "code",
        "colab": {
          "base_uri": "https://localhost:8080/",
          "height": 71
        },
        "outputId": "e923cfd9-34f6-47b0-975f-5b92b32c7d3a"
      },
      "source": [
        "import numpy as np\n",
        "from scipy import linalg as la\n",
        "\n",
        "e = np.array([1, 0, 0])\n",
        "I3 = np.array([[1, 0, 0],[0, 1, 0],[0, 0, 1 ]])\n",
        "A = np.array([[7, 2, 0], [2, 1, 3], [4, 8, 3]])\n",
        "a = A[:, 0]\n",
        "\n",
        "\n",
        "u = a - la.norm(a) * e\n",
        "v = u / la.norm(u)\n",
        "I3 - 2 * v * v.T"
      ],
      "execution_count": 27,
      "outputs": [
        {
          "output_type": "execute_result",
          "data": {
            "text/plain": [
              "array([[ 0.84270097, -0.36854019, -1.47416078],\n",
              "       [-0.15729903,  0.63145981, -1.47416078],\n",
              "       [-0.15729903, -0.36854019, -0.47416078]])"
            ]
          },
          "metadata": {
            "tags": []
          },
          "execution_count": 27
        }
      ]
    },
    {
      "cell_type": "code",
      "metadata": {
        "id": "0fzhheDdFf0-",
        "colab_type": "code",
        "colab": {
          "base_uri": "https://localhost:8080/",
          "height": 71
        },
        "outputId": "28fea79a-d508-4b86-c1e5-f4b143ac5d16"
      },
      "source": [
        "import numpy as np\n",
        "from scipy import linalg as la\n",
        "\n",
        "e1 = np.array([1, 0, 0])\n",
        "I3 = np.eye(3)\n",
        "A = np.array([[7, 2, 0], [2, 1, 3], [4, 8, 3]])\n",
        "a = A[:, 0]\n",
        "\n",
        "u = a - (la.norm(a) * e1)  \n",
        "v = u / la.norm(u)  # 정규화\n",
        "Q1 = I3 - 2 * v * v.T\n",
        "Q1 @ A"
      ],
      "execution_count": 28,
      "outputs": [
        {
          "output_type": "execute_result",
          "data": {
            "text/plain": [
              "array([[ -0.7348167 , -10.47642447,  -5.52810291],\n",
              "       [ -5.7348167 , -11.47642447,  -2.52810291],\n",
              "       [ -3.7348167 ,  -4.47642447,  -2.52810291]])"
            ]
          },
          "metadata": {
            "tags": []
          },
          "execution_count": 28
        }
      ]
    },
    {
      "cell_type": "markdown",
      "metadata": {
        "id": "1MvIv0HagVhQ",
        "colab_type": "text"
      },
      "source": [
        "아래부터는 검증을 위한 프로그램입니다."
      ]
    },
    {
      "cell_type": "code",
      "metadata": {
        "id": "0rH4rEoPIfVh",
        "colab_type": "code",
        "colab": {
          "base_uri": "https://localhost:8080/",
          "height": 341
        },
        "outputId": "fe4cac98-2a15-4a1d-92ec-b7fc35f050a4"
      },
      "source": [
        "import numpy as np\n",
        "from scipy import linalg as la\n",
        "\n",
        "e1 = np.array([1, 0, 0])\n",
        "I3 = np.eye(3)\n",
        "A = np.array([[7, 2, 0], [2, 1, 3], [4, 8, 3]])\n",
        "a = A[:, 0]\n",
        "\n",
        "print(\"a\")\n",
        "print(a, la.norm(a))\n",
        "u = a - (la.norm(a) * e1)  \n",
        "print(\"u\")\n",
        "print(u)\n",
        "v = u / la.norm(u)  # 정규화\n",
        "print(\"v\")\n",
        "print(v)\n",
        "\n",
        "print(\"I3\")\n",
        "print(I3)\n",
        "Q1 = I3 - 2 * v * v.T\n",
        "print(\"Q1\")\n",
        "print(Q1)\n",
        "\n",
        "print(\"result\")\n",
        "print(Q1 @ A)"
      ],
      "execution_count": 172,
      "outputs": [
        {
          "output_type": "stream",
          "text": [
            "a\n",
            "[7 2 4] 8.306623862918075\n",
            "u\n",
            "[-1.30662386  2.          4.        ]\n",
            "v\n",
            "[-0.28044521  0.42926693  0.85853386]\n",
            "I3\n",
            "[[1. 0. 0.]\n",
            " [0. 1. 0.]\n",
            " [0. 0. 1.]]\n",
            "Q1\n",
            "[[ 0.84270097 -0.36854019 -1.47416078]\n",
            " [-0.15729903  0.63145981 -1.47416078]\n",
            " [-0.15729903 -0.36854019 -0.47416078]]\n",
            "result\n",
            "[[ -0.7348167  -10.47642447  -5.52810291]\n",
            " [ -5.7348167  -11.47642447  -2.52810291]\n",
            " [ -3.7348167   -4.47642447  -2.52810291]]\n"
          ],
          "name": "stdout"
        }
      ]
    }
  ]
}